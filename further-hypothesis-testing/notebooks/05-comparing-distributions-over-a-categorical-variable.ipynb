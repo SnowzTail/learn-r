{
 "cells": [
  {
   "cell_type": "markdown",
   "metadata": {},
   "source": [
    "# Further Hypothesis Testing"
   ]
  },
  {
   "cell_type": "code",
   "execution_count": 1,
   "metadata": {
    "vscode": {
     "languageId": "r"
    }
   },
   "outputs": [
    {
     "name": "stderr",
     "output_type": "stream",
     "text": [
      "── \u001b[1mAttaching packages\u001b[22m ─────────────────────────────────────── tidyverse 1.3.1 ──\n",
      "\n",
      "\u001b[32m✔\u001b[39m \u001b[34mggplot2\u001b[39m 3.3.6     \u001b[32m✔\u001b[39m \u001b[34mpurrr  \u001b[39m 0.3.4\n",
      "\u001b[32m✔\u001b[39m \u001b[34mtibble \u001b[39m 3.1.7     \u001b[32m✔\u001b[39m \u001b[34mdplyr  \u001b[39m 1.0.9\n",
      "\u001b[32m✔\u001b[39m \u001b[34mtidyr  \u001b[39m 1.2.0     \u001b[32m✔\u001b[39m \u001b[34mstringr\u001b[39m 1.4.0\n",
      "\u001b[32m✔\u001b[39m \u001b[34mreadr  \u001b[39m 2.1.2     \u001b[32m✔\u001b[39m \u001b[34mforcats\u001b[39m 0.5.1\n",
      "\n",
      "── \u001b[1mConflicts\u001b[22m ────────────────────────────────────────── tidyverse_conflicts() ──\n",
      "\u001b[31m✖\u001b[39m \u001b[34mdplyr\u001b[39m::\u001b[32mfilter()\u001b[39m masks \u001b[34mstats\u001b[39m::filter()\n",
      "\u001b[31m✖\u001b[39m \u001b[34mdplyr\u001b[39m::\u001b[32mlag()\u001b[39m    masks \u001b[34mstats\u001b[39m::lag()\n",
      "\n"
     ]
    }
   ],
   "source": [
    "# Select this cell and type Ctrl-Enter to execute the code below.\n",
    "\n",
    "library(tidyverse)\n",
    "\n",
    "set_plot_dimensions <- function(width_choice, height_choice) {\n",
    "    options(repr.plot.width = width_choice, repr.plot.height = height_choice)\n",
    "}\n",
    "\n",
    "cbPal <- c(\"#E69F00\", \"#56B4E9\", \"#009E73\", \"#F0E442\", \"#CC79A7\", \"#0072B2\", \"#D55E00\")\n",
    "\n",
    "set_plot_dimensions(5, 4)\n"
   ]
  },
  {
   "cell_type": "code",
   "execution_count": null,
   "metadata": {
    "vscode": {
     "languageId": "r"
    }
   },
   "outputs": [],
   "source": [
    "# You should see \"Attaching packages\" and some ticks by the packages loaded.\n",
    "# The \"Conflicts\" aren't a problem.\n",
    "\n",
    "# Other problems loading the library? Try running this cell.\n",
    "\n",
    "install.packages(\"tidyverse\")\n",
    "\n",
    "library(tidyverse)\n"
   ]
  },
  {
   "cell_type": "markdown",
   "metadata": {},
   "source": [
    "## 5 - Comparing distributions over a categorical variable"
   ]
  },
  {
   "cell_type": "code",
   "execution_count": 3,
   "metadata": {
    "vscode": {
     "languageId": "r"
    }
   },
   "outputs": [
    {
     "name": "stderr",
     "output_type": "stream",
     "text": [
      "\u001b[1mRows: \u001b[22m\u001b[34m240\u001b[39m \u001b[1mColumns: \u001b[22m\u001b[34m5\u001b[39m\n",
      "\u001b[36m──\u001b[39m \u001b[1mColumn specification\u001b[22m \u001b[36m────────────────────────────────────────────────────────\u001b[39m\n",
      "\u001b[1mDelimiter:\u001b[22m \",\"\n",
      "\u001b[31mchr\u001b[39m (1): spectral_class\n",
      "\u001b[32mdbl\u001b[39m (4): temperature, luminosity, radius, type\n",
      "\n",
      "\u001b[36mℹ\u001b[39m Use `spec()` to retrieve the full column specification for this data.\n",
      "\u001b[36mℹ\u001b[39m Specify the column types or set `show_col_types = FALSE` to quiet this message.\n"
     ]
    }
   ],
   "source": [
    "# Run this cell to load the data.\n",
    "\n",
    "data <- read_csv(\"../assets/stars.csv\")\n",
    "\n",
    "type_key <- c(\"Brown Dwarf\", \"Red Dwarf\", \"White Dwarf\", \"Main Sequence\", \"Supergiant\", \"Hypergiant\")\n",
    "spectral_classes <- c(\"O\", \"B\", \"A\", \"F\", \"G\", \"K\", \"M\")\n",
    "\n",
    "data$type <- factor(data$type)\n",
    "data$spectral_class <- factor(data$spectral_class, levels = spectral_classes)\n"
   ]
  },
  {
   "cell_type": "markdown",
   "metadata": {},
   "source": [
    "Your undergraduate project student, Tunde, is looking at the distributions of spectral class (i.e. colour) for various types of star. \n",
    "\n",
    "He says that the bar charts for white dwarves (type 2) and main sequence stars (type 3) seem similar, but you are not so sure. \n"
   ]
  },
  {
   "cell_type": "code",
   "execution_count": 4,
   "metadata": {
    "vscode": {
     "languageId": "r"
    }
   },
   "outputs": [
    {
     "data": {
      "image/png": "[encoded data removed]",
      "text/plain": [
       "plot without title"
      ]
     },
     "metadata": {
      "image/png": {
       "height": 240,
       "width": 300
      }
     },
     "output_type": "display_data"
    }
   ],
   "source": [
    "\n",
    "data %>%\n",
    "    filter(type %in% c(2, 3)) %>%\n",
    "    select(type, spectral_class) %>%\n",
    "    ggplot(aes(x = spectral_class, fill = type)) +\n",
    "    geom_bar(position = position_dodge(preserve = \"single\")) +\n",
    "    scale_fill_manual(values = cbPal[c(3, 4)]) +\n",
    "    scale_x_discrete(drop = FALSE)\n"
   ]
  },
  {
   "cell_type": "markdown",
   "metadata": {},
   "source": [
    "### Question: do types 2 and 3 share the same distribution of spectral class?"
   ]
  },
  {
   "cell_type": "markdown",
   "metadata": {},
   "source": [
    "To test differences in distributions over a *categorical variable* like spectral class, we can use [*Pearson's chi-squared test*](https://en.wikipedia.org/wiki/Chi-squared_test):"
   ]
  },
  {
   "cell_type": "markdown",
   "metadata": {},
   "source": [
    "### Chi-squared test for statistical independence\n",
    "\n",
    "#### Theory\n",
    "\n",
    "$H_0$: Probability distribution for the categorical variable (e.g. spectral class) is independent of group (e.g. star type).\n",
    "\n",
    "$H_1$: Probability distribution depends on group.\n",
    "\n",
    "We need to find out whether the differences in observed frequencies between the two groups are small enough to have arisen by chance. We do this by constructing a [*contingency table*](https://en.wikipedia.org/wiki/Contingency_table) showing the observed frequency of each outcome for each of the two groups, and comparing to the *expected frequencies* under $H_0$.\n",
    "\n",
    "\n",
    "The test statistic is\n",
    "\n",
    "$$X^2 = \\sum^k_{i=1}{\\frac{(x_i-m_i)^2}{m_i}}$$\n",
    "\n",
    "where $k$ is the number of cells in the table and $x_i$ and $m_i$ are the observed and expected frequencies for each cell.\n",
    "\n",
    "Under $H_0$, $X^2$ follows a [$\\chi^2$ distribution](https://en.wikipedia.org/wiki/Chi-squared_distribution), which is parametrised by the number of degrees of freedom. A contingency table of size $a \\times b$ has $(a-1)(b-1)$ degrees of freedom, i.e. the number of independent counts when row and column sums are held fixed.\n",
    "\n",
    "#### Assumptions\n",
    "\n",
    "- Sampling is random\n",
    "- Each sample is independent of the others\n",
    "- Expected frequency for each cell must be sufficiently large\n",
    "\n",
    "The approximation to the $\\chi^2$ distribution breaks down if expected frequencies are too low. It will normally be acceptable so long as _no more than 20% of the events have expected frequencies below 5._ __This can be achieved by combining low-frequency datas.__ Where there is only 1 degree of freedom (i.e. a 2 $\\times$ 2 table), the approximation is not reliable if expected frequencies fall below 10. \n",
    "\n",
    "\n",
    "#### Application"
   ]
  },
  {
   "cell_type": "markdown",
   "metadata": {},
   "source": [
    "We will set $\\alpha=0.05$.\n",
    "\n",
    "We begin by making a contingency table for the observed spectral classes."
   ]
  },
  {
   "cell_type": "code",
   "execution_count": 5,
   "metadata": {
    "vscode": {
     "languageId": "r"
    }
   },
   "outputs": [
    {
     "name": "stdout",
     "output_type": "stream",
     "text": [
      "[1] \"OBSERVED:\"\n",
      "    spectral_class\n",
      "type  O  B  A  F  K\n",
      "   2  0 24  7  9  0\n",
      "   3  5 13 10  8  4\n"
     ]
    }
   ],
   "source": [
    "# OBSERVED\n",
    "\n",
    "obs <-\n",
    "    data %>%\n",
    "    filter(type %in% c(2, 3)) %>%\n",
    "    select(type, spectral_class) %>%\n",
    "    table(exclude = list(\"G\", \"M\", 0, 1, 4, 5))\n",
    "\n",
    "print(\"OBSERVED:\")\n",
    "\n",
    "print(obs)\n"
   ]
  },
  {
   "cell_type": "code",
   "execution_count": 6,
   "metadata": {
    "vscode": {
     "languageId": "r"
    }
   },
   "outputs": [
    {
     "name": "stdout",
     "output_type": "stream",
     "text": [
      "[1] \"row totals:\"\n",
      "type\n",
      " 2  3 \n",
      "40 40 \n",
      "[1] \"column totals:\"\n",
      "spectral_class\n",
      " O  B  A  F  K \n",
      " 5 37 17 17  4 \n",
      "[1] \"total observations\"\n",
      "[1] 80\n"
     ]
    }
   ],
   "source": [
    "print(\"row totals:\")\n",
    "tot_rows <- margin.table(obs, 1)\n",
    "show(tot_rows)\n",
    "\n",
    "print(\"column totals:\")\n",
    "tot_cols <- margin.table(obs, 2)\n",
    "print(tot_cols)\n",
    "\n",
    "print(\"total observations\")\n",
    "tot_obs <- sum(tot_rows)\n",
    "print(tot_obs)\n"
   ]
  },
  {
   "cell_type": "markdown",
   "metadata": {},
   "source": [
    "From the row and column totals, we can calculate the *expected* frequencies under $H_0$:"
   ]
  },
  {
   "cell_type": "code",
   "execution_count": 7,
   "metadata": {
    "vscode": {
     "languageId": "r"
    }
   },
   "outputs": [
    {
     "name": "stdout",
     "output_type": "stream",
     "text": [
      "[1] \"EXPECTED:\"\n"
     ]
    },
    {
     "data": {
      "text/html": [
       "<table class=\"dataframe\">\n",
       "<caption>A matrix: 2 × 5 of type dbl</caption>\n",
       "<thead>\n",
       "\t<tr><th></th><th scope=col>O</th><th scope=col>B</th><th scope=col>A</th><th scope=col>F</th><th scope=col>K</th></tr>\n",
       "</thead>\n",
       "<tbody>\n",
       "\t<tr><th scope=row>2</th><td>2.5</td><td>18.5</td><td>8.5</td><td>8.5</td><td>2</td></tr>\n",
       "\t<tr><th scope=row>3</th><td>2.5</td><td>18.5</td><td>8.5</td><td>8.5</td><td>2</td></tr>\n",
       "</tbody>\n",
       "</table>\n"
      ],
      "text/latex": [
       "A matrix: 2 × 5 of type dbl\n",
       "\\begin{tabular}{r|lllll}\n",
       "  & O & B & A & F & K\\\\\n",
       "\\hline\n",
       "\t2 & 2.5 & 18.5 & 8.5 & 8.5 & 2\\\\\n",
       "\t3 & 2.5 & 18.5 & 8.5 & 8.5 & 2\\\\\n",
       "\\end{tabular}\n"
      ],
      "text/markdown": [
       "\n",
       "A matrix: 2 × 5 of type dbl\n",
       "\n",
       "| <!--/--> | O | B | A | F | K |\n",
       "|---|---|---|---|---|---|\n",
       "| 2 | 2.5 | 18.5 | 8.5 | 8.5 | 2 |\n",
       "| 3 | 2.5 | 18.5 | 8.5 | 8.5 | 2 |\n",
       "\n"
      ],
      "text/plain": [
       "  O   B    A   F   K\n",
       "2 2.5 18.5 8.5 8.5 2\n",
       "3 2.5 18.5 8.5 8.5 2"
      ]
     },
     "metadata": {},
     "output_type": "display_data"
    }
   ],
   "source": [
    "print(\"EXPECTED:\")\n",
    "exp <- as.matrix(tot_rows) %*% t(as.matrix(tot_cols)) / tot_obs\n",
    "exp\n"
   ]
  },
  {
   "cell_type": "markdown",
   "metadata": {},
   "source": [
    "The expected values for classes K and O are too small. We can combine columns O, F and K to get all of the expected values over 5:"
   ]
  },
  {
   "cell_type": "code",
   "execution_count": 8,
   "metadata": {
    "vscode": {
     "languageId": "r"
    }
   },
   "outputs": [
    {
     "name": "stdout",
     "output_type": "stream",
     "text": [
      "[1] \"OBSERVED:\"\n"
     ]
    },
    {
     "data": {
      "text/html": [
       "<table class=\"dataframe\">\n",
       "<caption>A matrix: 2 × 3 of type int</caption>\n",
       "<thead>\n",
       "\t<tr><th></th><th scope=col>A</th><th scope=col>B</th><th scope=col>OFK</th></tr>\n",
       "</thead>\n",
       "<tbody>\n",
       "\t<tr><th scope=row>2</th><td> 7</td><td>24</td><td> 9</td></tr>\n",
       "\t<tr><th scope=row>3</th><td>10</td><td>13</td><td>17</td></tr>\n",
       "</tbody>\n",
       "</table>\n"
      ],
      "text/latex": [
       "A matrix: 2 × 3 of type int\n",
       "\\begin{tabular}{r|lll}\n",
       "  & A & B & OFK\\\\\n",
       "\\hline\n",
       "\t2 &  7 & 24 &  9\\\\\n",
       "\t3 & 10 & 13 & 17\\\\\n",
       "\\end{tabular}\n"
      ],
      "text/markdown": [
       "\n",
       "A matrix: 2 × 3 of type int\n",
       "\n",
       "| <!--/--> | A | B | OFK |\n",
       "|---|---|---|---|\n",
       "| 2 |  7 | 24 |  9 |\n",
       "| 3 | 10 | 13 | 17 |\n",
       "\n"
      ],
      "text/plain": [
       "  A  B  OFK\n",
       "2  7 24  9 \n",
       "3 10 13 17 "
      ]
     },
     "metadata": {},
     "output_type": "display_data"
    }
   ],
   "source": [
    "# OBSERVED (combining columns)\n",
    "\n",
    "AB <- obs[, c(\"A\", \"B\")]\n",
    "OFK <- margin.table(obs[, c(\"O\", \"F\", \"K\")], 1)\n",
    "new_obs <- cbind(AB, OFK)\n",
    "print(\"OBSERVED:\")\n",
    "new_obs\n"
   ]
  },
  {
   "cell_type": "code",
   "execution_count": 9,
   "metadata": {
    "vscode": {
     "languageId": "r"
    }
   },
   "outputs": [
    {
     "name": "stdout",
     "output_type": "stream",
     "text": [
      "[1] \"EXPECTED:\"\n"
     ]
    },
    {
     "data": {
      "text/html": [
       "<table class=\"dataframe\">\n",
       "<caption>A matrix: 2 × 3 of type dbl</caption>\n",
       "<thead>\n",
       "\t<tr><th></th><th scope=col>A</th><th scope=col>B</th><th scope=col>OFK</th></tr>\n",
       "</thead>\n",
       "<tbody>\n",
       "\t<tr><th scope=row>2</th><td>8.5</td><td>18.5</td><td>13</td></tr>\n",
       "\t<tr><th scope=row>3</th><td>8.5</td><td>18.5</td><td>13</td></tr>\n",
       "</tbody>\n",
       "</table>\n"
      ],
      "text/latex": [
       "A matrix: 2 × 3 of type dbl\n",
       "\\begin{tabular}{r|lll}\n",
       "  & A & B & OFK\\\\\n",
       "\\hline\n",
       "\t2 & 8.5 & 18.5 & 13\\\\\n",
       "\t3 & 8.5 & 18.5 & 13\\\\\n",
       "\\end{tabular}\n"
      ],
      "text/markdown": [
       "\n",
       "A matrix: 2 × 3 of type dbl\n",
       "\n",
       "| <!--/--> | A | B | OFK |\n",
       "|---|---|---|---|\n",
       "| 2 | 8.5 | 18.5 | 13 |\n",
       "| 3 | 8.5 | 18.5 | 13 |\n",
       "\n"
      ],
      "text/plain": [
       "  A   B    OFK\n",
       "2 8.5 18.5 13 \n",
       "3 8.5 18.5 13 "
      ]
     },
     "metadata": {},
     "output_type": "display_data"
    }
   ],
   "source": [
    "# EXPECTED (combining columns)\n",
    "\n",
    "AB <- exp[, c(\"A\", \"B\")]\n",
    "OFK <- margin.table(exp[, c(\"O\", \"F\", \"K\")], 1)\n",
    "new_exp <- cbind(AB, OFK)\n",
    "print(\"EXPECTED:\")\n",
    "new_exp\n"
   ]
  },
  {
   "cell_type": "markdown",
   "metadata": {},
   "source": [
    "In R, the most convenient form of the chi-squared test for a contingency table is `chi2.test`, which just takes the table of observations as input and calculates the expected values and degrees of freedom accordingly."
   ]
  },
  {
   "cell_type": "code",
   "execution_count": 10,
   "metadata": {
    "vscode": {
     "languageId": "r"
    }
   },
   "outputs": [
    {
     "data": {
      "text/plain": [
       "\n",
       "\tPearson's Chi-squared test\n",
       "\n",
       "data:  new_obs\n",
       "X-squared = 6.2612, df = 2, p-value = 0.04369\n"
      ]
     },
     "metadata": {},
     "output_type": "display_data"
    }
   ],
   "source": [
    "chisq.test(new_obs)\n"
   ]
  },
  {
   "cell_type": "markdown",
   "metadata": {},
   "source": [
    "According to the chi-squared test, $p<\\alpha$, so there is enough evidence to reject $H_0$:\n",
    "it appears that white dwarves and main sequence stars follow different distributions for spectral class.\n",
    "\n",
    "<br>"
   ]
  },
  {
   "cell_type": "markdown",
   "metadata": {},
   "source": [
    "---"
   ]
  }
 ],
 "metadata": {
  "kernelspec": {
   "display_name": "R",
   "language": "R",
   "name": "ir"
  },
  "language_info": {
   "codemirror_mode": "r",
   "file_extension": ".r",
   "mimetype": "text/x-r-source",
   "name": "R",
   "pygments_lexer": "r",
   "version": "4.2.1"
  }
 },
 "nbformat": 4,
 "nbformat_minor": 4
}
