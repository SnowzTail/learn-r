{
 "cells": [
  {
   "cell_type": "markdown",
   "metadata": {},
   "source": [
    "# Further Hypothesis Testing\n",
    "\n",
    "## Assignment: ice cream\n",
    "\n",
    "This assignment contains exercises to test your understanding of various hypothesis tests from the course. It is a good idea to revise the course material thoroughly before starting.\n",
    "\n",
    "Use whatever computational resources you like to answer the questions (e.g. python, R, any other programming language, a spreadsheet, a calculator, ...)."
   ]
  },
  {
   "cell_type": "markdown",
   "metadata": {},
   "source": [
    "### The data\n",
    "\n",
    "The file `Ice_cream.csv` contains data collected on 200 high school students. These are:\n",
    "\n",
    "* Subject ID\n",
    "* Wears glasses (0=No, 1=Yes)\n",
    "* Favourite ice cream flavour (1=Vanilla, 2=Chocolate, 3=Strawberry)\n",
    "* Score on a video game\n",
    "* Score on a puzzle"
   ]
  },
  {
   "cell_type": "markdown",
   "metadata": {},
   "source": [
    "### The tasks\n",
    "\n",
    "Answer the following questions:\n",
    "\n",
    "1. Are the video game and puzzle scores normally distributed?\n",
    "\n",
    "2. Is the video game as hard as the puzzle?\n",
    "\n",
    "3. Is wearing glasses associated with a higher score on the puzzle game?\n",
    "\n",
    "4. Do glasses wearers have different ice cream preferences to non-wearers?\n",
    "\n",
    "5. Is the video game score independent of favourite ice cream?\n",
    "\n",
    "---"
   ]
  },
  {
   "cell_type": "code",
   "execution_count": 1,
   "metadata": {
    "vscode": {
     "languageId": "r"
    }
   },
   "outputs": [
    {
     "name": "stderr",
     "output_type": "stream",
     "text": [
      "── \u001b[1mAttaching packages\u001b[22m ─────────────────────────────────────── tidyverse 1.3.1 ──\n",
      "\n",
      "\u001b[32m✔\u001b[39m \u001b[34mggplot2\u001b[39m 3.3.6     \u001b[32m✔\u001b[39m \u001b[34mpurrr  \u001b[39m 0.3.4\n",
      "\u001b[32m✔\u001b[39m \u001b[34mtibble \u001b[39m 3.1.7     \u001b[32m✔\u001b[39m \u001b[34mdplyr  \u001b[39m 1.0.9\n",
      "\u001b[32m✔\u001b[39m \u001b[34mtidyr  \u001b[39m 1.2.0     \u001b[32m✔\u001b[39m \u001b[34mstringr\u001b[39m 1.4.0\n",
      "\u001b[32m✔\u001b[39m \u001b[34mreadr  \u001b[39m 2.1.2     \u001b[32m✔\u001b[39m \u001b[34mforcats\u001b[39m 0.5.1\n",
      "\n",
      "── \u001b[1mConflicts\u001b[22m ────────────────────────────────────────── tidyverse_conflicts() ──\n",
      "\u001b[31m✖\u001b[39m \u001b[34mdplyr\u001b[39m::\u001b[32mfilter()\u001b[39m masks \u001b[34mstats\u001b[39m::filter()\n",
      "\u001b[31m✖\u001b[39m \u001b[34mdplyr\u001b[39m::\u001b[32mlag()\u001b[39m    masks \u001b[34mstats\u001b[39m::lag()\n",
      "\n"
     ]
    }
   ],
   "source": [
    "# Select this cell and type Ctrl-Enter to execute the code below.\n",
    "\n",
    "library(tidyverse)\n",
    "\n",
    "set_plot_dimensions <- function(width_choice, height_choice) {\n",
    "    options(repr.plot.width = width_choice, repr.plot.height = height_choice)\n",
    "}\n",
    "\n",
    "cbPal <- c(\"#E69F00\", \"#56B4E9\", \"#009E73\", \"#F0E442\", \"#CC79A7\", \"#0072B2\", \"#D55E00\")\n",
    "\n",
    "set_plot_dimensions(5, 4)\n"
   ]
  },
  {
   "cell_type": "code",
   "execution_count": 2,
   "metadata": {
    "vscode": {
     "languageId": "r"
    }
   },
   "outputs": [
    {
     "name": "stderr",
     "output_type": "stream",
     "text": [
      "\u001b[1mRows: \u001b[22m\u001b[34m200\u001b[39m \u001b[1mColumns: \u001b[22m\u001b[34m5\u001b[39m\n",
      "\u001b[36m──\u001b[39m \u001b[1mColumn specification\u001b[22m \u001b[36m────────────────────────────────────────────────────────\u001b[39m\n",
      "\u001b[1mDelimiter:\u001b[22m \",\"\n",
      "\u001b[32mdbl\u001b[39m (5): id, glasses, ice_cream, video, puzzle\n",
      "\n",
      "\u001b[36mℹ\u001b[39m Use `spec()` to retrieve the full column specification for this data.\n",
      "\u001b[36mℹ\u001b[39m Specify the column types or set `show_col_types = FALSE` to quiet this message.\n"
     ]
    }
   ],
   "source": [
    "data <- read_csv(\"../assets/Ice_cream.csv\")\n"
   ]
  },
  {
   "cell_type": "markdown",
   "metadata": {},
   "source": [
    "1. Are the video game and puzzle scores normally distributed?"
   ]
  },
  {
   "cell_type": "code",
   "execution_count": 8,
   "metadata": {
    "vscode": {
     "languageId": "r"
    }
   },
   "outputs": [
    {
     "name": "stdout",
     "output_type": "stream",
     "text": [
      "[1] \"Video: p = 0.0347758959538878\"\n"
     ]
    }
   ],
   "source": [
    "# H0: The scores are normally distributed.\n",
    "# H1: The scores are not normally distributed.\n",
    "\n",
    "sample <- data %>%\n",
    "    pull(video)\n",
    "\n",
    "p_value <- shapiro.test(sample)$p.value\n",
    "print(paste(\"Video: p =\", p_value))\n"
   ]
  },
  {
   "cell_type": "code",
   "execution_count": 9,
   "metadata": {
    "vscode": {
     "languageId": "r"
    }
   },
   "outputs": [
    {
     "name": "stdout",
     "output_type": "stream",
     "text": [
      "[1] \"Puzzle: p = 2.34330158744853e-05\"\n"
     ]
    }
   ],
   "source": [
    "sample <- data %>%\n",
    "    pull(puzzle)\n",
    "\n",
    "p_value <- shapiro.test(sample)$p.value\n",
    "print(paste(\"Puzzle: p =\", p_value))\n"
   ]
  },
  {
   "cell_type": "markdown",
   "metadata": {},
   "source": [
    "p-values of video and puzzle scores are below the significant level alpha = 0.05. However, a Bonferroni correction for 2-testing would require p < alpha/2, hence we should only report that the puzzle scores appear significantly non-normal."
   ]
  },
  {
   "cell_type": "markdown",
   "metadata": {},
   "source": [
    "2. Is the video game as hard as the puzzle?"
   ]
  },
  {
   "cell_type": "markdown",
   "metadata": {},
   "source": [
    "Although the puzzle scores are not normally distributed, we *do* have a big enough sample size (n > 75) to use a paired sample t-test to investigate the mean of the score differences (puzzle - video)."
   ]
  },
  {
   "cell_type": "code",
   "execution_count": 15,
   "metadata": {
    "vscode": {
     "languageId": "r"
    }
   },
   "outputs": [
    {
     "name": "stdout",
     "output_type": "stream",
     "text": [
      "[1] \"Video: 51.85\"\n",
      "[1] \"Puzzle: 52.405\"\n",
      "[1] \"Difference: -0.555\"\n"
     ]
    }
   ],
   "source": [
    "# H0: mean(puzzle - video) = 0\n",
    "# H1: mean(puzzle - video) != 0\n",
    "\n",
    "type.video <- data %>%\n",
    "    pull(video)\n",
    "\n",
    "type.puzzle <- data %>%\n",
    "    pull(puzzle)\n",
    "\n",
    "print(paste(\"Video:\", mean(type.video)))\n",
    "print(paste(\"Puzzle:\", mean(type.puzzle)))\n",
    "print(paste(\"Difference:\", mean(type.video) - mean(type.puzzle)))\n"
   ]
  },
  {
   "cell_type": "code",
   "execution_count": 16,
   "metadata": {
    "vscode": {
     "languageId": "r"
    }
   },
   "outputs": [
    {
     "data": {
      "text/plain": [
       "\n",
       "\tPaired t-test\n",
       "\n",
       "data:  type.video and type.puzzle\n",
       "t = -0.7338, df = 199, p-value = 0.4639\n",
       "alternative hypothesis: true mean difference is not equal to 0\n",
       "95 percent confidence interval:\n",
       " -2.046463  0.936463\n",
       "sample estimates:\n",
       "mean difference \n",
       "         -0.555 \n"
      ]
     },
     "metadata": {},
     "output_type": "display_data"
    }
   ],
   "source": [
    "t.test(type.video, type.puzzle, var.equal = TRUE, paired = TRUE, alternative = \"two.sided\")\n"
   ]
  },
  {
   "cell_type": "markdown",
   "metadata": {},
   "source": [
    "p > alpha so we accept the null hypothesis: the video game is as hard as the puzzle."
   ]
  },
  {
   "cell_type": "markdown",
   "metadata": {},
   "source": [
    "3. Is wearing glasses associated with a higher score on the puzzle game?"
   ]
  },
  {
   "cell_type": "code",
   "execution_count": 30,
   "metadata": {
    "vscode": {
     "languageId": "r"
    }
   },
   "outputs": [
    {
     "name": "stdout",
     "output_type": "stream",
     "text": [
      "[1] \"Glasses: n = 109 mean = 52.9174311926606\"\n",
      "[1] \"No Glasses: n = 91 mean = 51.7912087912088\"\n",
      "[1] \"Difference: 1.12622240145176\"\n"
     ]
    }
   ],
   "source": [
    "type.glasses <-\n",
    "    data %>%\n",
    "    filter(glasses == 1) %>%\n",
    "    pull(puzzle)\n",
    "\n",
    "type.no_glasses <-\n",
    "    data %>%\n",
    "    filter(glasses == 0) %>%\n",
    "    pull(puzzle)\n",
    "\n",
    "print(paste(\"Glasses: n =\", length(type.glasses), \"mean =\", mean(type.glasses)))\n",
    "print(paste(\"No Glasses: n =\", length(type.no_glasses), \"mean =\", mean(type.no_glasses)))\n",
    "print(paste(\"Difference:\", mean(type.glasses) - mean(type.no_glasses)))"
   ]
  },
  {
   "cell_type": "markdown",
   "metadata": {},
   "source": [
    "Both groups are large enough to allow a reliable p-value to be obtained from a t-test using non-normal data (n>75).\n",
    "\n",
    "Instead, we will use a non-parametric alternative. The two samples are independent, so we can use a Mann-Whitney U-test to compare their distributions.\n",
    "\n",
    "Note that the question as posed is a one-tailed hypothesis test:\n",
    "\n",
    "- H0: a random sample from puzzle_glasses is on average the same as a random sample from puzzle_no_glasses. \n",
    "- H1: a random sample from puzzle_glasses is on average less than a random sample from puzzle_no_glasses."
   ]
  },
  {
   "cell_type": "code",
   "execution_count": 36,
   "metadata": {
    "vscode": {
     "languageId": "r"
    }
   },
   "outputs": [
    {
     "data": {
      "text/plain": [
       "\n",
       "\tWilcoxon rank sum test with continuity correction\n",
       "\n",
       "data:  type.glasses and type.no_glasses\n",
       "W = 5184, p-value = 0.5795\n",
       "alternative hypothesis: true location shift is not equal to 0\n"
      ]
     },
     "metadata": {},
     "output_type": "display_data"
    }
   ],
   "source": [
    "wilcox.test(type.glasses, type.no_glasses)"
   ]
  },
  {
   "cell_type": "markdown",
   "metadata": {},
   "source": [
    "Above p-value is two-tailed. Dividing it by 2, we have p > alpha, so we conclude that glasses wearers do not score significantly higher on the puzzle than non-wearers."
   ]
  },
  {
   "cell_type": "markdown",
   "metadata": {},
   "source": [
    "4. Do glasses wearers have different ice cream preferences to non-wearers?"
   ]
  },
  {
   "cell_type": "markdown",
   "metadata": {},
   "source": [
    "To test whether two categorical variables are independent, we use a chi-squared test:\n",
    "\n",
    "- H0: glasses and ice_cream are independent.\n",
    "- H1: glasses and ice_cream are not independent."
   ]
  },
  {
   "cell_type": "code",
   "execution_count": 41,
   "metadata": {
    "vscode": {
     "languageId": "r"
    }
   },
   "outputs": [
    {
     "name": "stdout",
     "output_type": "stream",
     "text": [
      "[1] \"OBSERVED:\"\n",
      "       ice_cream\n",
      "glasses  1  2  3\n",
      "      0 47 15 29\n",
      "      1 48 32 29\n"
     ]
    }
   ],
   "source": [
    "obs <-\n",
    "    data %>%\n",
    "    select(glasses, ice_cream) %>%\n",
    "    table()\n",
    "\n",
    "print(\"OBSERVED:\")\n",
    "\n",
    "print(obs)"
   ]
  },
  {
   "cell_type": "code",
   "execution_count": 42,
   "metadata": {
    "vscode": {
     "languageId": "r"
    }
   },
   "outputs": [
    {
     "name": "stdout",
     "output_type": "stream",
     "text": [
      "[1] \"row totals:\"\n",
      "glasses\n",
      "  0   1 \n",
      " 91 109 \n",
      "[1] \"column totals:\"\n",
      "ice_cream\n",
      " 1  2  3 \n",
      "95 47 58 \n",
      "[1] \"total observations\"\n",
      "[1] 200\n"
     ]
    }
   ],
   "source": [
    "print(\"row totals:\")\n",
    "tot_rows <- margin.table(obs, 1)\n",
    "show(tot_rows)\n",
    "\n",
    "print(\"column totals:\")\n",
    "tot_cols <- margin.table(obs, 2)\n",
    "print(tot_cols)\n",
    "\n",
    "print(\"total observations\")\n",
    "tot_obs <- sum(tot_rows)\n",
    "print(tot_obs)\n"
   ]
  },
  {
   "cell_type": "code",
   "execution_count": 43,
   "metadata": {
    "vscode": {
     "languageId": "r"
    }
   },
   "outputs": [
    {
     "name": "stdout",
     "output_type": "stream",
     "text": [
      "[1] \"EXPECTED:\"\n"
     ]
    },
    {
     "data": {
      "text/html": [
       "<table class=\"dataframe\">\n",
       "<caption>A matrix: 2 × 3 of type dbl</caption>\n",
       "<thead>\n",
       "\t<tr><th></th><th scope=col>1</th><th scope=col>2</th><th scope=col>3</th></tr>\n",
       "</thead>\n",
       "<tbody>\n",
       "\t<tr><th scope=row>0</th><td>43.225</td><td>21.385</td><td>26.39</td></tr>\n",
       "\t<tr><th scope=row>1</th><td>51.775</td><td>25.615</td><td>31.61</td></tr>\n",
       "</tbody>\n",
       "</table>\n"
      ],
      "text/latex": [
       "A matrix: 2 × 3 of type dbl\n",
       "\\begin{tabular}{r|lll}\n",
       "  & 1 & 2 & 3\\\\\n",
       "\\hline\n",
       "\t0 & 43.225 & 21.385 & 26.39\\\\\n",
       "\t1 & 51.775 & 25.615 & 31.61\\\\\n",
       "\\end{tabular}\n"
      ],
      "text/markdown": [
       "\n",
       "A matrix: 2 × 3 of type dbl\n",
       "\n",
       "| <!--/--> | 1 | 2 | 3 |\n",
       "|---|---|---|---|\n",
       "| 0 | 43.225 | 21.385 | 26.39 |\n",
       "| 1 | 51.775 | 25.615 | 31.61 |\n",
       "\n"
      ],
      "text/plain": [
       "  1      2      3    \n",
       "0 43.225 21.385 26.39\n",
       "1 51.775 25.615 31.61"
      ]
     },
     "metadata": {},
     "output_type": "display_data"
    }
   ],
   "source": [
    "print(\"EXPECTED:\")\n",
    "exp <- as.matrix(tot_rows) %*% t(as.matrix(tot_cols)) / tot_obs\n",
    "exp\n"
   ]
  },
  {
   "cell_type": "code",
   "execution_count": 44,
   "metadata": {
    "vscode": {
     "languageId": "r"
    }
   },
   "outputs": [
    {
     "data": {
      "text/plain": [
       "\n",
       "\tPearson's Chi-squared test\n",
       "\n",
       "data:  obs\n",
       "X-squared = 4.5765, df = 2, p-value = 0.1014\n"
      ]
     },
     "metadata": {},
     "output_type": "display_data"
    }
   ],
   "source": [
    "chisq.test(obs)\n"
   ]
  },
  {
   "cell_type": "markdown",
   "metadata": {},
   "source": [
    "p > alpha, so we accept the null hypothesis that the variables are independent."
   ]
  },
  {
   "cell_type": "markdown",
   "metadata": {},
   "source": [
    "5. Is the video game score independent of favourite ice cream?"
   ]
  },
  {
   "cell_type": "markdown",
   "metadata": {},
   "source": [
    "This question asks us to test whether the mean video game scores for the three ice cream groups are the same. This requires a one-way ANOVA test:\n",
    "\n",
    "- H0: The means of the three groups are the same.\n",
    "- H1: The means of the three groups are not the same."
   ]
  },
  {
   "cell_type": "code",
   "execution_count": 53,
   "metadata": {
    "vscode": {
     "languageId": "r"
    }
   },
   "outputs": [
    {
     "name": "stdout",
     "output_type": "stream",
     "text": [
      "[1] \"Vanilla: n = 95 mean = 51.7052631578947\"\n",
      "[1] \"Chocolate: n = 47 mean = 47.7021276595745\"\n",
      "[1] \"Strawberry: n = 58 mean = 55.448275862069\"\n"
     ]
    }
   ],
   "source": [
    "type.video_1 <-\n",
    "    data %>%\n",
    "    filter(ice_cream == 1) %>%\n",
    "    pull(video)\n",
    "\n",
    "type.video_2 <-\n",
    "    data %>%\n",
    "    filter(ice_cream == 2) %>%\n",
    "    pull(video)\n",
    "\n",
    "type.video_3 <-\n",
    "    data %>%\n",
    "    filter(ice_cream == 3) %>%\n",
    "    pull(video)\n",
    "\n",
    "print(paste(\"Vanilla: n =\", length(type.video_1), \"mean =\", mean(type.video_1)))\n",
    "print(paste(\"Chocolate: n =\", length(type.video_2), \"mean =\", mean(type.video_2)))\n",
    "print(paste(\"Strawberry: n =\", length(type.video_3), \"mean =\", mean(type.video_3)))"
   ]
  },
  {
   "cell_type": "code",
   "execution_count": 63,
   "metadata": {
    "vscode": {
     "languageId": "r"
    }
   },
   "outputs": [
    {
     "data": {
      "text/plain": [
       "             Df Sum Sq Mean Sq F value Pr(>F)  \n",
       "ice_cream     1    339   338.6   3.497 0.0629 .\n",
       "Residuals   198  19169    96.8                 \n",
       "---\n",
       "Signif. codes:  0 ‘***’ 0.001 ‘**’ 0.01 ‘*’ 0.05 ‘.’ 0.1 ‘ ’ 1"
      ]
     },
     "metadata": {},
     "output_type": "display_data"
    }
   ],
   "source": [
    "data %>%\n",
    "    aov(video ~ ice_cream, .) %>%\n",
    "    summary()\n"
   ]
  },
  {
   "cell_type": "markdown",
   "metadata": {},
   "source": [
    "p > alpha, so we accept the null hypothesis: there is no significant association between favourite ice cream and video game score."
   ]
  }
 ],
 "metadata": {
  "kernelspec": {
   "display_name": "R",
   "language": "R",
   "name": "ir"
  },
  "language_info": {
   "codemirror_mode": "r",
   "file_extension": ".r",
   "mimetype": "text/x-r-source",
   "name": "R",
   "pygments_lexer": "r",
   "version": "4.2.1"
  },
  "vscode": {
   "interpreter": {
    "hash": "e7370f93d1d0cde622a1f8e1c04877d8463912d04d973331ad4851f04de6915a"
   }
  }
 },
 "nbformat": 4,
 "nbformat_minor": 4
}
